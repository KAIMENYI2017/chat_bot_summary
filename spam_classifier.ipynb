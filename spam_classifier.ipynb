{
 "cells": [
  {
   "cell_type": "code",
   "execution_count": 13,
   "id": "9b037a0d",
   "metadata": {},
   "outputs": [],
   "source": [
    "import pandas as pd\n",
    "import numpy as np\n",
    "from nltk.corpus import stopwords\n",
    "import string\n",
    "from sklearn.pipeline import Pipeline\n",
    "from sklearn.feature_extraction.text import TfidfVectorizer, CountVectorizer, TfidfTransformer\n",
    "from sklearn.model_selection import train_test_split,cross_val_score\n",
    "from sklearn.naive_bayes import MultinomialNB\n",
    "from sklearn.model_selection import train_test_split\n",
    "from sklearn.tree import DecisionTreeClassifier\n",
    "from sklearn.metrics import accuracy_score,classification_report, confusion_matrix\n",
    "import warnings\n",
    "warnings.filterwarnings(\"ignore\")"
   ]
  },
  {
   "cell_type": "code",
   "execution_count": 2,
   "id": "62dd69c8",
   "metadata": {
    "scrolled": true
   },
   "outputs": [
    {
     "data": {
      "text/html": [
       "<div>\n",
       "<style scoped>\n",
       "    .dataframe tbody tr th:only-of-type {\n",
       "        vertical-align: middle;\n",
       "    }\n",
       "\n",
       "    .dataframe tbody tr th {\n",
       "        vertical-align: top;\n",
       "    }\n",
       "\n",
       "    .dataframe thead th {\n",
       "        text-align: right;\n",
       "    }\n",
       "</style>\n",
       "<table border=\"1\" class=\"dataframe\">\n",
       "  <thead>\n",
       "    <tr style=\"text-align: right;\">\n",
       "      <th></th>\n",
       "      <th>feat1</th>\n",
       "      <th>feat2</th>\n",
       "      <th>spam</th>\n",
       "    </tr>\n",
       "  </thead>\n",
       "  <tbody>\n",
       "    <tr>\n",
       "      <th>0</th>\n",
       "      <td>0.0</td>\n",
       "      <td>0.0</td>\n",
       "      <td>1.0</td>\n",
       "    </tr>\n",
       "    <tr>\n",
       "      <th>1</th>\n",
       "      <td>0.0</td>\n",
       "      <td>0.0</td>\n",
       "      <td>1.0</td>\n",
       "    </tr>\n",
       "    <tr>\n",
       "      <th>2</th>\n",
       "      <td>0.0</td>\n",
       "      <td>0.0</td>\n",
       "      <td>1.0</td>\n",
       "    </tr>\n",
       "    <tr>\n",
       "      <th>3</th>\n",
       "      <td>0.0</td>\n",
       "      <td>0.0</td>\n",
       "      <td>1.0</td>\n",
       "    </tr>\n",
       "    <tr>\n",
       "      <th>4</th>\n",
       "      <td>0.0</td>\n",
       "      <td>0.0</td>\n",
       "      <td>1.0</td>\n",
       "    </tr>\n",
       "  </tbody>\n",
       "</table>\n",
       "</div>"
      ],
      "text/plain": [
       "   feat1  feat2  spam\n",
       "0    0.0    0.0   1.0\n",
       "1    0.0    0.0   1.0\n",
       "2    0.0    0.0   1.0\n",
       "3    0.0    0.0   1.0\n",
       "4    0.0    0.0   1.0"
      ]
     },
     "execution_count": 2,
     "metadata": {},
     "output_type": "execute_result"
    }
   ],
   "source": [
    "data=pd.read_csv('E:/clients/terry/vetorized_spam.csv')\n",
    "data.head()"
   ]
  },
  {
   "cell_type": "code",
   "execution_count": 3,
   "id": "3bf68295",
   "metadata": {},
   "outputs": [],
   "source": [
    "data.dropna(inplace=True, axis=0)"
   ]
  },
  {
   "cell_type": "code",
   "execution_count": 4,
   "id": "c2dde71f",
   "metadata": {},
   "outputs": [
    {
     "name": "stdout",
     "output_type": "stream",
     "text": [
      "(5664, 2)\n",
      "(5664,)\n"
     ]
    }
   ],
   "source": [
    "x=data[['feat1','feat2']]\n",
    "y=data.spam\n",
    "print(x.shape)\n",
    "print(y.shape)"
   ]
  },
  {
   "cell_type": "markdown",
   "id": "dd84c38c",
   "metadata": {},
   "source": [
    "## Split data into train and test , and shuffle "
   ]
  },
  {
   "cell_type": "code",
   "execution_count": 5,
   "id": "7601bc9a",
   "metadata": {},
   "outputs": [
    {
     "name": "stdout",
     "output_type": "stream",
     "text": [
      "(4531, 2)\n",
      "(4531,)\n"
     ]
    }
   ],
   "source": [
    "x_train,x_test, y_train,y_test= train_test_split(x,y,random_state=104,test_size=0.20,shuffle=True)\n",
    "print(x_train.shape)\n",
    "print(y_train.shape)"
   ]
  },
  {
   "cell_type": "markdown",
   "id": "7b34e754",
   "metadata": {},
   "source": [
    "## Define 3 classifiers "
   ]
  },
  {
   "cell_type": "markdown",
   "id": "d7683c2c",
   "metadata": {},
   "source": [
    "### TF-DIF model"
   ]
  },
  {
   "cell_type": "code",
   "execution_count": 6,
   "id": "28171305",
   "metadata": {},
   "outputs": [],
   "source": [
    "vectorization = TfidfVectorizer()\n",
    "xv_train = vectorization.fit_transform(x_train)\n",
    "xv_test = vectorization.transform(x_test)"
   ]
  },
  {
   "cell_type": "markdown",
   "id": "fb31ff9f",
   "metadata": {},
   "source": [
    "### Multinomial Bayes Classifier "
   ]
  },
  {
   "cell_type": "code",
   "execution_count": 16,
   "id": "8501e58d",
   "metadata": {},
   "outputs": [],
   "source": [
    "bayes_classifier=MultinomialNB()\n",
    "#bayes_classifier.fit(x_train,y_train)\n"
   ]
  },
  {
   "cell_type": "code",
   "execution_count": 8,
   "id": "a79ea27b",
   "metadata": {},
   "outputs": [
    {
     "name": "stdout",
     "output_type": "stream",
     "text": [
      "Accuracy: 0.7537511032656664\n",
      "              precision    recall  f1-score   support\n",
      "\n",
      "         0.0       0.75      1.00      0.86       854\n",
      "         1.0       0.00      0.00      0.00       279\n",
      "\n",
      "    accuracy                           0.75      1133\n",
      "   macro avg       0.38      0.50      0.43      1133\n",
      "weighted avg       0.57      0.75      0.65      1133\n",
      "\n",
      "[[854   0]\n",
      " [279   0]]\n"
     ]
    }
   ],
   "source": [
    "y_pred=bayes_classifier.predict(x_test)\n",
    "print('Accuracy:', accuracy_score(y_test, y_pred))\n",
    "print(classification_report(y_test,y_pred))\n",
    "print(confusion_matrix(y_test,y_pred))"
   ]
  },
  {
   "cell_type": "markdown",
   "id": "12361875",
   "metadata": {},
   "source": [
    "#### Decision tree"
   ]
  },
  {
   "cell_type": "code",
   "execution_count": 9,
   "id": "0b6088e7",
   "metadata": {},
   "outputs": [
    {
     "data": {
      "text/plain": [
       "0.7537511032656664"
      ]
     },
     "execution_count": 9,
     "metadata": {},
     "output_type": "execute_result"
    }
   ],
   "source": [
    "# Decision tree with gini\n",
    "clf = DecisionTreeClassifier(criterion = \"gini\",\n",
    "            random_state = 123,max_depth=4)\n",
    "clf.fit(x_train, y_train)\n",
    "clf.score(x_test, y_test)"
   ]
  },
  {
   "cell_type": "markdown",
   "id": "8680d8e1",
   "metadata": {},
   "source": [
    "## 5-Fold cross validation "
   ]
  },
  {
   "cell_type": "markdown",
   "id": "4eed08a9",
   "metadata": {},
   "source": [
    "#### Decision treen  with 5-folds cross validation  "
   ]
  },
  {
   "cell_type": "code",
   "execution_count": 26,
   "id": "8d8ca13e",
   "metadata": {},
   "outputs": [
    {
     "name": "stdout",
     "output_type": "stream",
     "text": [
      "After 5 fold cross validation:\n",
      "Mean of Accuracies:  75.96557070223987\n",
      "Standard deviation of Accuracies 0.04275028236622681\n"
     ]
    }
   ],
   "source": [
    "#Entropy Model\n",
    "tree_clf = DecisionTreeClassifier(criterion = 'entropy',max_depth=4, random_state = 0)\n",
    "tree_clf.fit(x_train, y_train)\n",
    "\n",
    "#Applying k-Fold Cross Validation\n",
    "accuracies = cross_val_score(estimator = tree_clf, X = x_train, y = y_train, cv = 5)\n",
    "mean_dt_e=accuracies.mean()\n",
    "std_dt_e=accuracies.std()\n",
    "\n",
    "#After using 5 fold cross validation\n",
    "print('After 5 fold cross validation:')\n",
    "print('Mean of Accuracies: ',mean_dt_e*100,end='\\n')\n",
    "print('Standard deviation of Accuracies',std_dt_e*100,end='\\n')"
   ]
  },
  {
   "cell_type": "markdown",
   "id": "72cd9bf0",
   "metadata": {},
   "source": [
    "### Multinomial bayes with 5-fold cross validation "
   ]
  },
  {
   "cell_type": "code",
   "execution_count": 27,
   "id": "afb32bc4",
   "metadata": {},
   "outputs": [
    {
     "name": "stdout",
     "output_type": "stream",
     "text": [
      "After 5 fold cross validation:\n",
      "Mean of Accuracies:  75.96557070223987\n",
      "Standard deviation of Accuracies 0.04275028236622681\n"
     ]
    }
   ],
   "source": [
    "#Entropy Model\n",
    "bayes_clf = MultinomialNB()\n",
    "bayes_clf.fit(x_train, y_train)\n",
    "\n",
    "#Applying k-Fold Cross Validation\n",
    "accuracies = cross_val_score(estimator = bayes_clf, X = x_train, y = y_train, cv = 5)\n",
    "mean_dt_e=accuracies.mean()\n",
    "std_dt_e=accuracies.std()\n",
    "\n",
    "#After using 5 fold cross validation\n",
    "print('After 5 fold cross validation:')\n",
    "print('Mean of Accuracies: ',mean_dt_e*100,end='\\n')\n",
    "print('Standard deviation of Accuracies',std_dt_e*100,end='\\n')\n"
   ]
  },
  {
   "cell_type": "markdown",
   "id": "787cc253",
   "metadata": {},
   "source": [
    "Decison tree models show equal performance, therefore we could use either of the models as our final model. The standard deviation of accuracies for the models is low and we conclude that the performance on unseen data is good. "
   ]
  },
  {
   "cell_type": "markdown",
   "id": "3f4dd07b",
   "metadata": {},
   "source": [
    "## Use entire train data "
   ]
  },
  {
   "cell_type": "markdown",
   "id": "cd700c19",
   "metadata": {},
   "source": [
    "### decision tree on full data"
   ]
  },
  {
   "cell_type": "code",
   "execution_count": 23,
   "id": "ded1bc8f",
   "metadata": {},
   "outputs": [
    {
     "data": {
      "text/plain": [
       "DecisionTreeClassifier(criterion='entropy', max_depth=4, random_state=123)"
      ]
     },
     "execution_count": 23,
     "metadata": {},
     "output_type": "execute_result"
    }
   ],
   "source": [
    "# Decision tree with gini\n",
    "tree = DecisionTreeClassifier(criterion = \"entropy\",\n",
    "            random_state = 123,max_depth=4)\n",
    "tree.fit(x_train, y_train)"
   ]
  },
  {
   "cell_type": "markdown",
   "id": "4dc7cfd7",
   "metadata": {},
   "source": [
    "### naive bayes on full data"
   ]
  },
  {
   "cell_type": "code",
   "execution_count": 21,
   "id": "01d634bd",
   "metadata": {},
   "outputs": [
    {
     "data": {
      "text/plain": [
       "MultinomialNB()"
      ]
     },
     "execution_count": 21,
     "metadata": {},
     "output_type": "execute_result"
    }
   ],
   "source": [
    "naive = MultinomialNB()\n",
    "naive.fit(x_train, y_train)"
   ]
  },
  {
   "cell_type": "markdown",
   "id": "d35b4dc3",
   "metadata": {},
   "source": [
    "## Estimations "
   ]
  },
  {
   "cell_type": "markdown",
   "id": "6303f693",
   "metadata": {},
   "source": [
    "### decision tree"
   ]
  },
  {
   "cell_type": "code",
   "execution_count": 24,
   "id": "2ceea373",
   "metadata": {},
   "outputs": [
    {
     "name": "stdout",
     "output_type": "stream",
     "text": [
      "Test Output:\n",
      "Confusion Matrix:\n",
      "[[854   0]\n",
      " [279   0]]\n",
      "Classification Report:\n",
      "              precision    recall  f1-score   support\n",
      "\n",
      "         0.0       0.75      1.00      0.86       854\n",
      "         1.0       0.00      0.00      0.00       279\n",
      "\n",
      "    accuracy                           0.75      1133\n",
      "   macro avg       0.38      0.50      0.43      1133\n",
      "weighted avg       0.57      0.75      0.65      1133\n",
      "\n",
      "Accuracy:  0.7537511032656664\n"
     ]
    }
   ],
   "source": [
    "#predict y\n",
    "y_pred = tree.predict(x_test)\n",
    "\n",
    "#Confusion Matrix\n",
    "print('Test Output:')\n",
    "print('Confusion Matrix:')\n",
    "print(confusion_matrix(y_test, y_pred))\n",
    "print('Classification Report:')\n",
    "print(classification_report(y_test, y_pred))\n",
    "print('Accuracy: ',accuracy_score(y_test,y_pred))"
   ]
  },
  {
   "cell_type": "markdown",
   "id": "38343d56",
   "metadata": {},
   "source": [
    "### Naive bayes report"
   ]
  },
  {
   "cell_type": "code",
   "execution_count": 25,
   "id": "bce3819a",
   "metadata": {},
   "outputs": [
    {
     "name": "stdout",
     "output_type": "stream",
     "text": [
      "Test Output:\n",
      "Confusion Matrix:\n",
      "[[854   0]\n",
      " [279   0]]\n",
      "Classification Report:\n",
      "              precision    recall  f1-score   support\n",
      "\n",
      "         0.0       0.75      1.00      0.86       854\n",
      "         1.0       0.00      0.00      0.00       279\n",
      "\n",
      "    accuracy                           0.75      1133\n",
      "   macro avg       0.38      0.50      0.43      1133\n",
      "weighted avg       0.57      0.75      0.65      1133\n",
      "\n",
      "Accuracy:  0.7537511032656664\n"
     ]
    }
   ],
   "source": [
    "#predict y\n",
    "y_pred = naive.predict(x_test)\n",
    "\n",
    "#Confusion Matrix\n",
    "print('Test Output:')\n",
    "print('Confusion Matrix:')\n",
    "print(confusion_matrix(y_test, y_pred))\n",
    "print('Classification Report:')\n",
    "print(classification_report(y_test, y_pred))\n",
    "print('Accuracy: ',accuracy_score(y_test,y_pred))"
   ]
  },
  {
   "cell_type": "markdown",
   "id": "3dba48fe",
   "metadata": {},
   "source": [
    "## comment on the model performance"
   ]
  },
  {
   "cell_type": "markdown",
   "id": "52c188db",
   "metadata": {},
   "source": [
    "The decision tree model and Multinomial bayes models show equal performance on the data set. Since their accuracies on unseen does not show big variance, any of the model could be used for spam detection. "
   ]
  },
  {
   "cell_type": "markdown",
   "id": "4828f9d1",
   "metadata": {},
   "source": [
    "## Reflection \n",
    "The efficiency of this spam classifier could be more effective if an automated data cleaning pipeline was put in place and hosted in a cloud platform for instance heroku. A new email would trigger the data pipeline, the cleaned email is them passed to the classifier in real-time or near real-time and output sent to the appropriate category. Apart from, multinomial naive bayes and tree classifiers, boosted classifiers would improve the effectiveness of this solution. "
   ]
  },
  {
   "cell_type": "code",
   "execution_count": null,
   "id": "b224696d",
   "metadata": {},
   "outputs": [],
   "source": []
  }
 ],
 "metadata": {
  "kernelspec": {
   "display_name": "Python 3 (ipykernel)",
   "language": "python",
   "name": "python3"
  },
  "language_info": {
   "codemirror_mode": {
    "name": "ipython",
    "version": 3
   },
   "file_extension": ".py",
   "mimetype": "text/x-python",
   "name": "python",
   "nbconvert_exporter": "python",
   "pygments_lexer": "ipython3",
   "version": "3.9.5"
  }
 },
 "nbformat": 4,
 "nbformat_minor": 5
}
